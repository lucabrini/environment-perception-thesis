{
 "cells": [
  {
   "cell_type": "code",
   "execution_count": 16,
   "metadata": {},
   "outputs": [
    {
     "name": "stdout",
     "output_type": "stream",
     "text": [
      "Robot distance from object:  230\n",
      "\t- Real position [m]:  [0.41 1.54 0.96]\n",
      "\t- Mean position [m]:  [0.36173226 1.72244359 1.01031626]\n",
      "\t- Error position [m]:  [0.04826774 0.18244359 0.05031626]\n",
      "\t- Relative error position [%]:  [11.77 11.85  5.24]\n",
      "\n",
      "\n",
      "Robot distance from object:  130\n",
      "\t- Real position [m]:  [0.41 1.54 0.96]\n",
      "\t- Mean position [m]:  [0.21913949 1.68225932 1.01457373]\n",
      "\t- Error position [m]:  [0.19086051 0.14225932 0.05457373]\n",
      "\t- Relative error position [%]:  [46.55  9.24  5.68]\n",
      "\n",
      "\n"
     ]
    }
   ],
   "source": [
    "import json\n",
    "import numpy as np\n",
    "\n",
    "with open('bottle_positions_samples.json', 'r') as fp:\n",
    "  json_source = json.load(fp)\n",
    "  \n",
    "  for rb_dist in json_source:\n",
    "    print(\"Robot distance from object: \", rb_dist[\"robot_distance_from_object\"])\n",
    "    rb_dist[\"robot_distance_from_object\"]\n",
    "    bottle_positions = np.array(rb_dist[\"object_stimated_positions_from_reference\"])\n",
    "    real_position = np.array(rb_dist[\"object_real_position\"])\n",
    "    \n",
    "    mean_position = np.mean(bottle_positions, axis=0)\n",
    "    position_abs_error = np.abs(real_position - mean_position)\n",
    "    position_rel_error = np.round((position_abs_error / real_position) * 10000) / 100\n",
    "    print(\"\\t- Real position [m]: \", real_position)\n",
    "    print(\"\\t- Mean position [m]: \", mean_position)\n",
    "    print(\"\\t- Error position [m]: \", position_abs_error)\n",
    "    print(\"\\t- Relative error position [%]: \", position_rel_error)\n",
    "    print(\"\\n\")\n",
    "      "
   ]
  }
 ],
 "metadata": {
  "kernelspec": {
   "display_name": "venv",
   "language": "python",
   "name": "python3"
  },
  "language_info": {
   "codemirror_mode": {
    "name": "ipython",
    "version": 3
   },
   "file_extension": ".py",
   "mimetype": "text/x-python",
   "name": "python",
   "nbconvert_exporter": "python",
   "pygments_lexer": "ipython3",
   "version": "3.8.10"
  }
 },
 "nbformat": 4,
 "nbformat_minor": 2
}
