{
 "cells": [
  {
   "cell_type": "code",
   "execution_count": 1,
   "metadata": {},
   "outputs": [
    {
     "data": {
      "text/plain": [
       "True"
      ]
     },
     "execution_count": 1,
     "metadata": {},
     "output_type": "execute_result"
    }
   ],
   "source": [
    "import os\n",
    "import cv2 as cv\n",
    "import numpy as np\n",
    "import matplotlib.pyplot as plt\n",
    "\n",
    "from room_segmentation import plot_image\n",
    "\n",
    "image = cv.imread('/Volumes/Extreme SSD/Oversonic/room_recognition/Skeleton and its branching points.png')\n",
    "image = cv.cvtColor(image, cv.COLOR_BGR2RGB)\n",
    "image = image[:,:,1]\n",
    "\n",
    "im2 = cv.imread(\"/Volumes/Extreme SSD/Università/Tesi/Luca Brini 879459 - Tesi Triennale/images/room_recognition/mora/diagram.png\")\n",
    "cv.imshow(\"image\", image)\n",
    "cv.waitKey(0)\n",
    "cv.imwrite(\"image.png\", image)\n"
   ]
  }
 ],
 "metadata": {
  "kernelspec": {
   "display_name": "Python 3",
   "language": "python",
   "name": "python3"
  },
  "language_info": {
   "codemirror_mode": {
    "name": "ipython",
    "version": 3
   },
   "file_extension": ".py",
   "mimetype": "text/x-python",
   "name": "python",
   "nbconvert_exporter": "python",
   "pygments_lexer": "ipython3",
   "version": "3.10.4"
  }
 },
 "nbformat": 4,
 "nbformat_minor": 2
}
